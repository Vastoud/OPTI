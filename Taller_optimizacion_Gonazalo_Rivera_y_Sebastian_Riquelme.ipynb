{
  "nbformat": 4,
  "nbformat_minor": 0,
  "metadata": {
    "colab": {
      "provenance": []
    },
    "kernelspec": {
      "name": "python3",
      "display_name": "Python 3"
    },
    "language_info": {
      "name": "python"
    }
  },
  "cells": [
    {
      "cell_type": "code",
      "execution_count": 1,
      "metadata": {
        "colab": {
          "base_uri": "https://localhost:8080/"
        },
        "id": "qd2Wlb8PISC2",
        "outputId": "7aea1d8f-af55-4e06-9f9a-63c31e43c597"
      },
      "outputs": [
        {
          "output_type": "stream",
          "name": "stdout",
          "text": [
            "Looking in indexes: https://pypi.org/simple, https://us-python.pkg.dev/colab-wheels/public/simple/\n",
            "Requirement already satisfied: pulp in /usr/local/lib/python3.10/dist-packages (2.7.0)\n"
          ]
        }
      ],
      "source": [
        "!pip install pulp\n",
        "\n",
        "from pulp import *"
      ]
    },
    {
      "cell_type": "code",
      "source": [
        "# Datos del problema\n",
        "trabajadores = [\"Trabajador 1\", \"Trabajador 2\", \"Trabajador 3\", \"Trabajador 4\", \"Trabajador 5\"]\n",
        "tareas = [\"Tarea 1\", \"Tarea 2\", \"Tarea 3\", \"Tarea 4\", \"Tarea 5\", \"Tarea 6\", \"Tarea 7\", \"Tarea 8\", \"Tarea 9\", \"Tarea 10\"]\n",
        "\n",
        "costos = {\n",
        "    (\"Trabajador 1\", \"Tarea 1\"): 20, (\"Trabajador 1\", \"Tarea 2\"): 20, (\"Trabajador 1\", \"Tarea 6\"): 20, (\"Trabajador 1\", \"Tarea 7\"): 20,\n",
        "    (\"Trabajador 2\", \"Tarea 1\"): 25, (\"Trabajador 2\", \"Tarea 3\"): 25, (\"Trabajador 2\", \"Tarea 6\"): 25, (\"Trabajador 2\", \"Tarea 8\"): 25,\n",
        "    (\"Trabajador 3\", \"Tarea 1\"): 22, (\"Trabajador 3\", \"Tarea 4\"): 22, (\"Trabajador 3\", \"Tarea 6\"): 22, (\"Trabajador 3\", \"Tarea 9\"): 22,\n",
        "    (\"Trabajador 4\", \"Tarea 2\"): 23, (\"Trabajador 4\", \"Tarea 5\"): 23, (\"Trabajador 4\", \"Tarea 7\"): 23, (\"Trabajador 4\", \"Tarea 10\"): 23,\n",
        "    (\"Trabajador 5\", \"Tarea 3\"): 21, (\"Trabajador 5\", \"Tarea 4\"): 21, (\"Trabajador 5\", \"Tarea 8\"): 21, (\"Trabajador 5\", \"Tarea 9\"): 21\n",
        "}\n",
        "\n",
        "tiempo_tareas = {\n",
        "    \"Tarea 1\": 10, \"Tarea 2\": 7, \"Tarea 3\": 5, \"Tarea 4\": 6, \"Tarea 5\": 8, \"Tarea 6\": 10, \"Tarea 7\": 7, \"Tarea 8\": 5, \"Tarea 9\": 6, \"Tarea 10\": 8\n",
        "}\n",
        "\n",
        "fecha_limite_tareas = {\n",
        "    \"Tarea 1\": 3, \"Tarea 2\": 2, \"Tarea 3\": 2, \"Tarea 4\": 3, \"Tarea 5\": 4, \"Tarea 6\": 5, \"Tarea 7\": 6, \"Tarea 8\": 7, \"Tarea 9\": 8, \"Tarea 10\": 9\n",
        "}\n",
        "\n",
        "costo_retraso = 50"
      ],
      "metadata": {
        "id": "SEAJxls6IiaN"
      },
      "execution_count": 2,
      "outputs": []
    },
    {
      "cell_type": "code",
      "source": [
        "prob = LpProblem(\"AsignacionTareas\", LpMinimize)"
      ],
      "metadata": {
        "id": "7voqvFAjJvOu"
      },
      "execution_count": 3,
      "outputs": []
    },
    {
      "cell_type": "code",
      "source": [
        "asignacion = LpVariable.dicts(\"Asignacion\", (trabajadores, tareas), cat='Binary')"
      ],
      "metadata": {
        "id": "q_3O095vJ2ES"
      },
      "execution_count": 4,
      "outputs": []
    },
    {
      "cell_type": "code",
      "source": [
        "# Definir la función objetivo\n",
        "func_objetivo = lpSum(costos[(trabajador, tarea)] * asignacion[trabajador][tarea]\n",
        "                     for trabajador in trabajadores for tarea in tareas\n",
        "                     if (trabajador, tarea) in costos)\n",
        "\n",
        "multas_retraso = lpSum(costo_retraso * lpSum((fecha_limite_tareas[tarea] - dia) * asignacion[trabajador][tarea]\n",
        "                                             for dia in range(fecha_limite_tareas[tarea] + 1, 100))\n",
        "                       for trabajador in trabajadores for tarea in tareas\n",
        "                       if (trabajador, tarea) in fecha_limite_tareas)\n",
        "\n",
        "prob += func_objetivo + multas_retraso\n",
        "\n",
        "\n",
        "\n"
      ],
      "metadata": {
        "id": "vr80lIe-J-2I"
      },
      "execution_count": 5,
      "outputs": []
    },
    {
      "cell_type": "code",
      "source": [
        "for tarea in tareas:\n",
        "    prob += lpSum(asignacion[trabajador][tarea] for trabajador in trabajadores) == 1\n",
        "\n",
        "for trabajador in trabajadores:\n",
        "    prob += lpSum(asignacion[trabajador][tarea] for tarea in tareas) <= 1\n"
      ],
      "metadata": {
        "id": "oaBF8AxWWVZd"
      },
      "execution_count": 6,
      "outputs": []
    },
    {
      "cell_type": "code",
      "source": [
        "prob.solve()\n",
        "print(\"Estado:\", LpStatus[prob.status])"
      ],
      "metadata": {
        "colab": {
          "base_uri": "https://localhost:8080/"
        },
        "id": "ANAsbxJYWa9G",
        "outputId": "6d784ce7-248b-4088-a4a8-4705412aa904"
      },
      "execution_count": 7,
      "outputs": [
        {
          "output_type": "stream",
          "name": "stdout",
          "text": [
            "Estado: Infeasible\n"
          ]
        }
      ]
    },
    {
      "cell_type": "code",
      "source": [
        "print(\"Costo total:\", value(prob.objective))\n",
        "print(\"\\nAsignación de tareas:\")\n",
        "for trabajador in trabajadores:\n",
        "    for tarea in tareas:\n",
        "        if asignacion[trabajador][tarea].value() == 1:\n",
        "            print(f\"{trabajador} - {tarea}\")"
      ],
      "metadata": {
        "colab": {
          "base_uri": "https://localhost:8080/"
        },
        "id": "Qac9noK2WeKs",
        "outputId": "7a6cb222-103c-4406-cc0c-616e4df4cb4f"
      },
      "execution_count": 8,
      "outputs": [
        {
          "output_type": "stream",
          "name": "stdout",
          "text": [
            "Costo total: 0.0\n",
            "\n",
            "Asignación de tareas:\n",
            "Trabajador 1 - Tarea 9\n",
            "Trabajador 2 - Tarea 2\n",
            "Trabajador 2 - Tarea 4\n",
            "Trabajador 2 - Tarea 9\n",
            "Trabajador 3 - Tarea 3\n",
            "Trabajador 3 - Tarea 7\n",
            "Trabajador 3 - Tarea 10\n",
            "Trabajador 4 - Tarea 1\n",
            "Trabajador 4 - Tarea 8\n",
            "Trabajador 5 - Tarea 6\n"
          ]
        }
      ]
    }
  ]
}